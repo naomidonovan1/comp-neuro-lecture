


import sys
print(f'Python {sys.version}')


%matplotlib inline
import numpy as np
import matplotlib.pyplot as plt
x = np.linspace(0, 6*np.pi, 400)

plt.figure()
plt.plot(x, np.sin(x))
plt.title('Live plot')
plt.xlabel('x')
plt.ylabel('sin(x)')
plt.show()



