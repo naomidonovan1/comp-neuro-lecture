{
 "cells": [
  {
   "cell_type": "markdown",
   "id": "e6032d7e-c726-4ed3-9fe8-fe9ee6ebb2a5",
   "metadata": {},
   "source": [
    "# Computational Neuroscience Lecture\n",
    "\n",
    "_Use Alt-R to start slideshow, use arrows to navigate, and run slides with Shift-Enter._"
   ]
  },
  {
   "cell_type": "code",
   "execution_count": null,
   "id": "b9535204-6509-44dc-bde0-3cf72da829ef",
   "metadata": {},
   "outputs": [],
   "source": [
    "import sys\n",
    "print(f'Python {sys.version}')"
   ]
  },
  {
   "cell_type": "code",
   "execution_count": null,
   "id": "60e9b4f8-b1e4-456f-8604-6ad7ce8b6a59",
   "metadata": {},
   "outputs": [],
   "source": [
    "%matplotlib inline\n",
    "import numpy as np\n",
    "import matplotlib.pyplot as plt\n",
    "x = np.linspace(0, 6*np.pi, 400)\n",
    "\n",
    "plt.figure()\n",
    "plt.plot(x, np.sin(x))\n",
    "plt.title('Live plot')\n",
    "plt.xlabel('x')\n",
    "plt.ylabel('sin(x)')\n",
    "plt.show()"
   ]
  },
  {
   "cell_type": "code",
   "execution_count": null,
   "id": "3337a033-2f58-427b-924e-c66bbb1338e8",
   "metadata": {},
   "outputs": [],
   "source": []
  }
 ],
 "metadata": {
  "kernelspec": {
   "display_name": "Python 3 (ipykernel)",
   "language": "python",
   "name": "python3"
  },
  "language_info": {
   "codemirror_mode": {
    "name": "ipython",
    "version": 3
   },
   "file_extension": ".py",
   "mimetype": "text/x-python",
   "name": "python",
   "nbconvert_exporter": "python",
   "pygments_lexer": "ipython3",
   "version": "3.10.18"
  }
 },
 "nbformat": 4,
 "nbformat_minor": 5
}
